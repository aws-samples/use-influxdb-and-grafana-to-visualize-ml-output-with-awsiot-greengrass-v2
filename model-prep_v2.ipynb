{
 "cells": [
  {
   "cell_type": "code",
   "execution_count": 1,
   "id": "c9ab74dc",
   "metadata": {},
   "outputs": [],
   "source": [
    "import torch\n",
    "import tarfile\n",
    "import boto3\n",
    "import sagemaker\n",
    "import time\n",
    "from sagemaker.utils import name_from_base\n"
   ]
  },
  {
   "cell_type": "code",
   "execution_count": 2,
   "id": "1a3930d2",
   "metadata": {},
   "outputs": [
    {
     "name": "stdout",
     "output_type": "stream",
     "text": [
      "1.7.1\n"
     ]
    }
   ],
   "source": [
    "print(torch.__version__)"
   ]
  },
  {
   "cell_type": "code",
   "execution_count": 3,
   "id": "f6ce2735",
   "metadata": {},
   "outputs": [],
   "source": [
    "import urllib\n",
    "url, filename = (\"https://github.com/pytorch/hub/raw/master/images/dog.jpg\", \"dog.jpg\")\n",
    "try: urllib.URLopener().retrieve(url, filename)\n",
    "except: urllib.request.urlretrieve(url, filename)"
   ]
  },
  {
   "cell_type": "code",
   "execution_count": 4,
   "id": "85e487a5",
   "metadata": {},
   "outputs": [],
   "source": [
    "from torchvision import datasets"
   ]
  },
  {
   "cell_type": "code",
   "execution_count": 5,
   "id": "ff18a51f",
   "metadata": {},
   "outputs": [
    {
     "name": "stdout",
     "output_type": "stream",
     "text": [
      "Requirement already satisfied: torchvision in /home/ec2-user/anaconda3/envs/pytorch_latest_p36/lib/python3.6/site-packages (0.8.2)\n",
      "Requirement already satisfied: numpy in /home/ec2-user/anaconda3/envs/pytorch_latest_p36/lib/python3.6/site-packages (from torchvision) (1.19.2)\n",
      "Requirement already satisfied: torch in /home/ec2-user/anaconda3/envs/pytorch_latest_p36/lib/python3.6/site-packages (from torchvision) (1.7.1)\n",
      "Requirement already satisfied: pillow>=4.1.1 in /home/ec2-user/anaconda3/envs/pytorch_latest_p36/lib/python3.6/site-packages (from torchvision) (8.2.0)\n",
      "Requirement already satisfied: typing_extensions in /home/ec2-user/anaconda3/envs/pytorch_latest_p36/lib/python3.6/site-packages (from torch->torchvision) (3.7.4.3)\n",
      "Requirement already satisfied: dataclasses in /home/ec2-user/anaconda3/envs/pytorch_latest_p36/lib/python3.6/site-packages (from torch->torchvision) (0.8)\n",
      "\u001b[33mWARNING: You are using pip version 21.1.2; however, version 21.2.2 is available.\n",
      "You should consider upgrading via the '/home/ec2-user/anaconda3/envs/pytorch_latest_p36/bin/python -m pip install --upgrade pip' command.\u001b[0m\n"
     ]
    }
   ],
   "source": [
    "!pip install torchvision"
   ]
  },
  {
   "cell_type": "code",
   "execution_count": 6,
   "id": "0a66819a",
   "metadata": {},
   "outputs": [
    {
     "name": "stdout",
     "output_type": "stream",
     "text": [
      "Requirement already satisfied: pillow in /home/ec2-user/anaconda3/envs/pytorch_latest_p36/lib/python3.6/site-packages (8.2.0)\n",
      "\u001b[33mWARNING: You are using pip version 21.1.2; however, version 21.2.2 is available.\n",
      "You should consider upgrading via the '/home/ec2-user/anaconda3/envs/pytorch_latest_p36/bin/python -m pip install --upgrade pip' command.\u001b[0m\n"
     ]
    }
   ],
   "source": [
    "!pip install pillow"
   ]
  },
  {
   "cell_type": "code",
   "execution_count": 7,
   "id": "a6c4e598",
   "metadata": {},
   "outputs": [],
   "source": [
    "\n",
    "import torchvision\n"
   ]
  },
  {
   "cell_type": "code",
   "execution_count": 8,
   "id": "b65c0c70",
   "metadata": {
    "scrolled": true
   },
   "outputs": [],
   "source": [
    "from torchvision import models\n",
    "model = torchvision.models.resnet18(pretrained=True)"
   ]
  },
  {
   "cell_type": "code",
   "execution_count": 9,
   "id": "3dae3b25",
   "metadata": {},
   "outputs": [],
   "source": [
    "input_shape = [1, 3, 224, 224]\n",
    "trace = torch.jit.trace(model.float().eval(), torch.zeros(input_shape).float())\n",
    "trace.save(\"model.pth\")\n",
    "with tarfile.open(\"model.tar.gz\", \"w:gz\") as f:\n",
    "    f.add(\"model.pth\")"
   ]
  },
  {
   "cell_type": "code",
   "execution_count": 10,
   "id": "6862e1ea",
   "metadata": {},
   "outputs": [],
   "source": [
    "role = sagemaker.get_execution_role()\n",
    "sess = sagemaker.Session()\n",
    "region = sess.boto_region_name\n",
    "bucket = sess.default_bucket()\n",
    "\n",
    "compilation_job_name = name_from_base(\"TorchVision-ResNet18-Neo\")\n",
    "prefix = compilation_job_name + \"/model\"\n",
    "model_path = sess.upload_data(path=\"model.tar.gz\", key_prefix=prefix)\n",
    "\n",
    "data_shape = '{\"input0\":[1,3,224,224]}'\n",
    "target_platform = {'Os': 'LINUX','Arch': 'X86_64'}\n",
    "framework = \"PYTORCH\"\n",
    "framework_version = \"1.6\"\n",
    "compiled_model_path = \"s3://{}/{}/output\".format(bucket, compilation_job_name)\n"
   ]
  },
  {
   "cell_type": "code",
   "execution_count": 11,
   "id": "97295f77",
   "metadata": {},
   "outputs": [
    {
     "name": "stdout",
     "output_type": "stream",
     "text": [
      "Compilation job for TorchVision-ResNet18-Neo-2021-08-05-01-02-01-874 started\n",
      "Compiling ...\n",
      "Compiling ...\n",
      "Compiling ...\n",
      "Compiling ...\n",
      "Compiling ...\n",
      "Compiling ...\n",
      "Compiling ...\n",
      "Compiling ...\n",
      "Compiling ...\n",
      "Compiling ...\n",
      "Done!\n"
     ]
    }
   ],
   "source": [
    "# Create a SageMaker client so you can submit a compilation job\n",
    "sagemaker_client = boto3.client('sagemaker', region_name='us-east-1')\n",
    "\n",
    "# Give your compilation job a name\n",
    "print(f'Compilation job for {compilation_job_name} started')\n",
    "\n",
    "response = sagemaker_client.create_compilation_job(\n",
    "    CompilationJobName=compilation_job_name,\n",
    "    RoleArn=role,\n",
    "    InputConfig={\n",
    "        'S3Uri': model_path,\n",
    "        'DataInputConfig': data_shape,\n",
    "        'Framework': framework.upper()\n",
    "    },\n",
    "    OutputConfig={\n",
    "        'S3OutputLocation': compiled_model_path,\n",
    "        'TargetPlatform': target_platform \n",
    "    },\n",
    "    StoppingCondition={\n",
    "        'MaxRuntimeInSeconds': 900\n",
    "    }\n",
    ")\n",
    "while True:\n",
    "    response = sagemaker_client.describe_compilation_job(CompilationJobName=compilation_job_name)\n",
    "    if response['CompilationJobStatus'] == 'COMPLETED':\n",
    "        break\n",
    "    elif response['CompilationJobStatus'] == 'FAILED':\n",
    "        raise RuntimeError('Compilation failed')\n",
    "    print('Compiling ...')\n",
    "    time.sleep(30)\n",
    "print('Done!')"
   ]
  },
  {
   "cell_type": "code",
   "execution_count": 12,
   "id": "bd9c4e89",
   "metadata": {},
   "outputs": [
    {
     "name": "stdout",
     "output_type": "stream",
     "text": [
      "TorchVision-ResNet18-Neo-2021-08-05-01-02-01-874/output/model-LINUX_X86_64.tar.gz\n"
     ]
    }
   ],
   "source": [
    "s3_client = boto3.client('s3')\n",
    "object_path = '{}/output/model-{}_{}.tar.gz'.format(compilation_job_name, target_platform['Os'], target_platform['Arch'])\n",
    "print(object_path)"
   ]
  },
  {
   "cell_type": "code",
   "execution_count": 13,
   "id": "b3c347f3",
   "metadata": {},
   "outputs": [],
   "source": [
    "neo_compiled_model = 'compiled-model.tar.gz'\n",
    "s3_client.download_file(bucket, object_path, neo_compiled_model)"
   ]
  },
  {
   "cell_type": "code",
   "execution_count": 14,
   "id": "23f9a85d",
   "metadata": {},
   "outputs": [
    {
     "name": "stdout",
     "output_type": "stream",
     "text": [
      "compiled.so\n",
      "dlr.h\n",
      "compiled_model.json\n",
      "compiled.params\n",
      "compiled.meta\n",
      "libdlr.so\n",
      "manifest\n",
      "  adding: model/compiled.meta (deflated 66%)\n",
      "  adding: model/compiled_model.json (deflated 93%)\n",
      "  adding: model/compiled.params (deflated 7%)\n",
      "  adding: model/compiled.so (deflated 78%)\n",
      "  adding: model/dlr.h (deflated 83%)\n",
      "  adding: model/libdlr.so (deflated 60%)\n",
      "  adding: model/manifest (deflated 45%)\n"
     ]
    }
   ],
   "source": [
    "!mkdir model\n",
    "!tar zfxv compiled-model.tar.gz -C model/\n",
    "!zip compiled-model.zip model/*\n",
    "s3_client.upload_file('compiled-model.zip', bucket, '{}/output/model-{}_{}.zip'.format(compilation_job_name, target_platform['Os'], target_platform['Arch']))\n",
    "\n"
   ]
  },
  {
   "cell_type": "code",
   "execution_count": null,
   "id": "ba8ff4da",
   "metadata": {},
   "outputs": [],
   "source": []
  }
 ],
 "metadata": {
  "kernelspec": {
   "display_name": "conda_pytorch_latest_p36",
   "language": "python",
   "name": "conda_pytorch_latest_p36"
  },
  "language_info": {
   "codemirror_mode": {
    "name": "ipython",
    "version": 3
   },
   "file_extension": ".py",
   "mimetype": "text/x-python",
   "name": "python",
   "nbconvert_exporter": "python",
   "pygments_lexer": "ipython3",
   "version": "3.6.13"
  }
 },
 "nbformat": 4,
 "nbformat_minor": 5
}
